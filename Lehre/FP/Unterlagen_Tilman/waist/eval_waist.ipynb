{
 "cells": [
  {
   "cell_type": "code",
   "execution_count": 29,
   "id": "8b585e7b",
   "metadata": {},
   "outputs": [],
   "source": [
    "import matplotlib.pyplot as plt\n",
    "import numpy as np\n",
    "import pandas as pd\n",
    "from scipy import special\n",
    "from scipy.optimize import curve_fit\n",
    "\n",
    "def read_TDS200(filename):\n",
    "    data = pd.read_csv(filename, delimiter=\";\", names=['ind','t','V'])\n",
    "    data = data.values[8:]\n",
    "    t,V = data[:,1],data[:,2]\n",
    "    t = pd.to_numeric(t)\n",
    "    V = pd.to_numeric(V)\n",
    "    return t,V\n",
    "\n",
    "def moving_avg(t,data,kernelsize=10):\n",
    "    kernel = np.ones(kernelsize)/kernelsize\n",
    "    avg = np.convolve(data,kernel,mode='same')\n",
    "    return t[kernelsize//2+1:-kernelsize//2+1],avg[kernelsize//2+1:-kernelsize//2+1]\n",
    "\n",
    "def int_gaussian(x,w,A,x0,c):\n",
    "    return A*(1+special.erf(np.sqrt(2/w)*(x-x0)))+c\n",
    "\n",
    "def fit_waist(t,V,waist_guess,t0_guess):\n",
    "    span = np.max(V)-np.min(V)\n",
    "    offset = np.min(V)\n",
    "    popt, pcov = curve_fit(int_gaussian, t,V,p0=[waist_guess,span,t0_guess,offset])\n",
    "    return popt                     "
   ]
  },
  {
   "cell_type": "code",
   "execution_count": 28,
   "id": "d3c039a8",
   "metadata": {},
   "outputs": [
    {
     "name": "stdout",
     "output_type": "stream",
     "text": [
      "[  3.51571397   0.02791159 -10.99768573   0.01521975]\n"
     ]
    },
    {
     "data": {
      "image/png": "[encoded data removed]",
      "text/plain": [
       "<Figure size 432x288 with 1 Axes>"
      ]
     },
     "metadata": {
      "needs_background": "light"
     },
     "output_type": "display_data"
    }
   ],
   "source": [
    "t,V = read_TDS200('waist_x.txt')\n",
    "t,V = moving_avg(t,V,kernelsize=100)\n",
    "t,V = t[0:1200], V[0:1200]\n",
    "plt.plot(t,V)\n",
    "popt = fit_waist(t,V,2,-11)\n",
    "print(popt[0]*v_scan)\n",
    "plt.plot(t,int_gaussian(t,*popt))\n",
    "plt.show()\n"
   ]
  },
  {
   "cell_type": "code",
   "execution_count": null,
   "id": "5818c2f4",
   "metadata": {},
   "outputs": [],
   "source": []
  },
  {
   "cell_type": "code",
   "execution_count": null,
   "id": "f6c6ed6d",
   "metadata": {},
   "outputs": [],
   "source": []
  }
 ],
 "metadata": {
  "kernelspec": {
   "display_name": "Python 3 (ipykernel)",
   "language": "python",
   "name": "python3"
  },
  "language_info": {
   "codemirror_mode": {
    "name": "ipython",
    "version": 3
   },
   "file_extension": ".py",
   "mimetype": "text/x-python",
   "name": "python",
   "nbconvert_exporter": "python",
   "pygments_lexer": "ipython3",
   "version": "3.9.7"
  }
 },
 "nbformat": 4,
 "nbformat_minor": 5
}
