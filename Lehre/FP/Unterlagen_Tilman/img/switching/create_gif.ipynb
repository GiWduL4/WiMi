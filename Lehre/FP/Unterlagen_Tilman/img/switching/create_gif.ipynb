{
 "cells": [
  {
   "cell_type": "code",
   "execution_count": 8,
   "metadata": {},
   "outputs": [],
   "source": [
    "from PIL import Image, ImageDraw\n",
    "\n",
    "width = 1024\n",
    "height= 768\n",
    "\n",
    "color_1 = (0,0,0)\n",
    "color_2 = (255,255,255)\n",
    "\n",
    "black = Image.new('RGB', (width, height), color_1)\n",
    "white = Image.new('RGB', (width, height), color_2)\n",
    "\n",
    "images = [white,black]\n",
    "\n",
    "images[0].save('switching.gif',\n",
    "               save_all=True, append_images=images[1:], optimize=False, duration=100, loop=0)\n",
    "\n"
   ]
  },
  {
   "cell_type": "code",
   "execution_count": null,
   "metadata": {},
   "outputs": [],
   "source": []
  }
 ],
 "metadata": {
  "kernelspec": {
   "display_name": "Python 3",
   "language": "python",
   "name": "python3"
  },
  "language_info": {
   "codemirror_mode": {
    "name": "ipython",
    "version": 3
   },
   "file_extension": ".py",
   "mimetype": "text/x-python",
   "name": "python",
   "nbconvert_exporter": "python",
   "pygments_lexer": "ipython3",
   "version": "3.7.3"
  }
 },
 "nbformat": 4,
 "nbformat_minor": 2
}
