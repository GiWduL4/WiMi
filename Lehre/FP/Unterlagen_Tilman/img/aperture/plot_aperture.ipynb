{
 "cells": [
  {
   "cell_type": "code",
   "execution_count": 1,
   "metadata": {},
   "outputs": [],
   "source": [
    "from PIL import Image, ImageDraw\n",
    "\n",
    "images = []\n",
    "\n",
    "width = 1024\n",
    "height = 768\n",
    "center_x = 488 #width // 2\n",
    "center_y = 356#height // 2\n",
    "color_1 = (0, 0, 0)\n",
    "color_2 = (255, 255, 255)\n",
    "max_radius = height // 2\n",
    "step = 3\n",
    "\n",
    "for i in range(0, max_radius, step):\n",
    "    im = Image.new('RGB', (width, height), color_1)\n",
    "    draw = ImageDraw.Draw(im)\n",
    "    draw.ellipse((center_x - i, center_y - i, center_x + i, center_y + i), fill=color_2)\n",
    "    images.append(im)\n",
    "\n",
    "\n",
    "images[0].save('aperture.gif',\n",
    "               save_all=True, append_images=images[1:], optimize=False, duration=1, loop=0)\n"
   ]
  },
  {
   "cell_type": "code",
   "execution_count": 3,
   "metadata": {},
   "outputs": [],
   "source": [
    "from PIL import Image, ImageDraw\n",
    "\n",
    "images = []\n",
    "\n",
    "width = 1024\n",
    "height = 768\n",
    "color_1 = (0, 0, 0)\n",
    "color_2 = (255, 255, 255)\n",
    "step = 1\n",
    "\n",
    "for i in range(0, width, step):\n",
    "    im = Image.new('RGB', (width, height), color_1)\n",
    "    draw = ImageDraw.Draw(im)\n",
    "    draw.rectangle((0,0,i*step,height-1), fill=color_2)\n",
    "    images.append(im)\n",
    "\n",
    "images[0].save('aperture_x.gif',\n",
    "               save_all=True, append_images=images[1:], optimize=False, duration=1, loop=0)\n",
    "\n"
   ]
  },
  {
   "cell_type": "code",
   "execution_count": 2,
   "metadata": {},
   "outputs": [],
   "source": [
    "from PIL import Image, ImageDraw\n",
    "\n",
    "images = []\n",
    "\n",
    "width = 1024\n",
    "height = 768\n",
    "color_1 = (0, 0, 0)\n",
    "color_2 = (255, 255, 255)\n",
    "step = 1\n",
    "\n",
    "for i in range(0, height, step):\n",
    "    im = Image.new('RGB', (width, height), color_1)\n",
    "    draw = ImageDraw.Draw(im)\n",
    "    draw.rectangle((0,0,width-1,i*step), fill=color_2)\n",
    "    images.append(im)\n",
    "\n",
    "images[0].save('aperture_y.gif',\n",
    "               save_all=True, append_images=images[1:], optimize=False, duration=1, loop=0)"
   ]
  },
  {
   "cell_type": "code",
   "execution_count": 1,
   "metadata": {},
   "outputs": [],
   "source": [
    "from PIL import Image, ImageDraw\n",
    "\n",
    "images = []\n",
    "\n",
    "width = 1024\n",
    "height = 768\n",
    "center_x = 488 #width // 2\n",
    "center_y = 356#height // 2\n",
    "color_2 = (0, 0, 0)\n",
    "color_1 = (255, 255, 255)\n",
    "max_radius = height // 2\n",
    "step = 3\n",
    "\n",
    "for i in range(0, max_radius, step):\n",
    "    im = Image.new('RGB', (width, height), color_1)\n",
    "    draw = ImageDraw.Draw(im)\n",
    "    draw.ellipse((center_x - i, center_y - i, center_x + i, center_y + i), fill=color_2)\n",
    "    images.append(im)\n",
    "\n",
    "\n",
    "images[0].save('aperture_inv.gif',\n",
    "               save_all=True, append_images=images[1:], optimize=False, duration=1, loop=0)\n"
   ]
  },
  {
   "cell_type": "code",
   "execution_count": null,
   "metadata": {},
   "outputs": [],
   "source": []
  }
 ],
 "metadata": {
  "kernelspec": {
   "display_name": "Python 3 (ipykernel)",
   "language": "python",
   "name": "python3"
  },
  "language_info": {
   "codemirror_mode": {
    "name": "ipython",
    "version": 3
   },
   "file_extension": ".py",
   "mimetype": "text/x-python",
   "name": "python",
   "nbconvert_exporter": "python",
   "pygments_lexer": "ipython3",
   "version": "3.9.13"
  }
 },
 "nbformat": 4,
 "nbformat_minor": 2
}
