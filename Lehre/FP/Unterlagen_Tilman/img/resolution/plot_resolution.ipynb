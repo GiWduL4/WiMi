{
 "cells": [
  {
   "cell_type": "code",
   "execution_count": 4,
   "metadata": {},
   "outputs": [],
   "source": [
    "from PIL import Image, ImageDraw\n",
    "\n",
    "images = []\n",
    "\n",
    "width = 1024\n",
    "height = 768\n",
    "center_x = width // 2\n",
    "center_y = height // 2\n",
    "color_1 = (0, 0, 0)\n",
    "color_2 = (255, 255, 255)\n",
    "max_width = 20\n",
    "step = 2\n",
    "\n",
    "for linewidth in range(1, max_width, step):\n",
    "    im_x = Image.new('RGB', (width, height), color_1)\n",
    "    draw = ImageDraw.Draw(im_x)\n",
    "    for i in range(0,width//linewidth,2):\n",
    "        draw.line([i*linewidth,0,i*linewidth,height-1],fill=color_2,width=linewidth)\n",
    "    im_x.save(\"%spx_x.gif\"%linewidth)\n",
    "    \n",
    "for linewidth in range(1, max_width, step):\n",
    "    im_y = Image.new('RGB', (width, height), color_1)\n",
    "    draw = ImageDraw.Draw(im_y)\n",
    "    for i in range(0,height//linewidth,2):\n",
    "        draw.line([0,i*linewidth,width-1,i*linewidth],fill=color_2,width=linewidth)\n",
    "    im_y.save(\"%spx_y.gif\"%linewidth)\n",
    "\n"
   ]
  },
  {
   "cell_type": "code",
   "execution_count": null,
   "metadata": {},
   "outputs": [],
   "source": []
  }
 ],
 "metadata": {
  "kernelspec": {
   "display_name": "Python 3 (ipykernel)",
   "language": "python",
   "name": "python3"
  },
  "language_info": {
   "codemirror_mode": {
    "name": "ipython",
    "version": 3
   },
   "file_extension": ".py",
   "mimetype": "text/x-python",
   "name": "python",
   "nbconvert_exporter": "python",
   "pygments_lexer": "ipython3",
   "version": "3.9.13"
  }
 },
 "nbformat": 4,
 "nbformat_minor": 2
}
