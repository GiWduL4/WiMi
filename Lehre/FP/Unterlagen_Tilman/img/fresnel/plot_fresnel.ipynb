{
 "cells": [
  {
   "cell_type": "code",
   "execution_count": 29,
   "metadata": {},
   "outputs": [
    {
     "name": "stdout",
     "output_type": "stream",
     "text": [
      "Max. number of zones:  659\n",
      "Number of zones with width >1px:  48\n"
     ]
    }
   ],
   "source": [
    "from PIL import Image, ImageDraw\n",
    "import numpy as np\n",
    "\n",
    "images = []\n",
    "\n",
    "width = 1024\n",
    "height = 768\n",
    "center_x = 488 #width // 2\n",
    "center_y = 356#height // 2\n",
    "color_1 = (0, 0, 0)\n",
    "color_2 = (255, 255, 255)\n",
    "f = 0.1\n",
    "pixel_size = 18.4e-6\n",
    "lambd = 650e-9\n",
    "\n",
    "im = Image.new('RGB', (width, height), color_1)\n",
    "draw = ImageDraw.Draw(im)\n",
    "\n",
    "f = f/pixel_size\n",
    "lambd = lambd/pixel_size\n",
    "nmax = int(center_y**2/(lambd*f))-1\n",
    "print('Max. number of zones: ',nmax)\n",
    "\n",
    "for n in range(nmax):\n",
    "    n = nmax-n\n",
    "    if (n%2) == 0:\n",
    "        color = color_1\n",
    "    else:\n",
    "        color = color_2\n",
    "    rn = np.sqrt(n*lambd*f+(n*lambd/2)**2)\n",
    "    rn1 = np.sqrt((n+1)*lambd*f+((n+1)*lambd/2)**2)\n",
    "    if (rn1-rn)<1:\n",
    "        max_zones = n\n",
    "        next\n",
    "    else:\n",
    "        draw.ellipse([center_x-rn, center_y-rn,center_x+rn, center_y+rn], fill = color)\n",
    "\n",
    "print('Number of zones with width >1px: ',max_zones)\n",
    "\n",
    "\n",
    "im.save('f%0.3f.bmp'%(f*pixel_size))"
   ]
  },
  {
   "cell_type": "code",
   "execution_count": null,
   "metadata": {},
   "outputs": [],
   "source": []
  },
  {
   "cell_type": "code",
   "execution_count": null,
   "metadata": {},
   "outputs": [],
   "source": []
  },
  {
   "cell_type": "code",
   "execution_count": null,
   "metadata": {},
   "outputs": [],
   "source": []
  }
 ],
 "metadata": {
  "kernelspec": {
   "display_name": "Python 3 (ipykernel)",
   "language": "python",
   "name": "python3"
  },
  "language_info": {
   "codemirror_mode": {
    "name": "ipython",
    "version": 3
   },
   "file_extension": ".py",
   "mimetype": "text/x-python",
   "name": "python",
   "nbconvert_exporter": "python",
   "pygments_lexer": "ipython3",
   "version": "3.9.13"
  }
 },
 "nbformat": 4,
 "nbformat_minor": 2
}
