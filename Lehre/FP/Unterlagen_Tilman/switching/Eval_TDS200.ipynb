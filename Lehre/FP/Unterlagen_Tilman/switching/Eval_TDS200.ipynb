{
 "cells": [
  {
   "cell_type": "code",
   "execution_count": 70,
   "id": "12c9d2c4",
   "metadata": {},
   "outputs": [],
   "source": [
    "import matplotlib.pyplot as plt\n",
    "import numpy as np\n",
    "import pandas as pd\n",
    "\n",
    "def read_TDS200(filename):\n",
    "    data = pd.read_csv(filename, delimiter=\";\", names=['ind','t','V'])\n",
    "    data = data.values[8:]\n",
    "    t,V = data[:,1],data[:,2]\n",
    "    t = pd.to_numeric(t)\n",
    "    V = pd.to_numeric(V)\n",
    "    return t,V\n",
    "\n",
    "def moving_avg(t,data,kernelsize=10):\n",
    "    kernel = np.ones(kernelsize)/kernelsize\n",
    "    avg = np.convolve(data,kernel,mode='same')\n",
    "    return t[kernelsize//2+1:-kernelsize//2+1],avg[kernelsize//2+1:-kernelsize//2+1]\n",
    "\n",
    "def get_rise_time(t,V,minimum=None,maximum=None):\n",
    "    if minimum is None:\n",
    "        minimum = np.min(V)\n",
    "    if maximum is None:\n",
    "        maximum = np.max(V)  \n",
    "    span = maximum - minimum\n",
    "    upper_lim = minimum + 0.9*span\n",
    "    lower_lim = minimum + 0.1*span\n",
    "\n",
    "    ind = np.where(V>lower_lim)\n",
    "    t0 = np.min(t[ind])\n",
    "    ind = np.where(V>upper_lim)\n",
    "    t1 = np.min(t[ind])\n",
    "    return t1-t0,t1,t0\n",
    "\n",
    "def get_fall_time(t,V,minimum=None,maximum=None):\n",
    "    if minimum is None:\n",
    "        minimum = np.min(V)\n",
    "    if maximum is None:\n",
    "        maximum = np.max(V)  \n",
    "    span = maximum - minimum\n",
    "    upper_lim = minimum + 0.9*span\n",
    "    lower_lim = minimum + 0.1*span\n",
    "\n",
    "    ind = np.where(V>upper_lim)\n",
    "    t0 = np.max(t[ind])\n",
    "    ind = np.where(V>lower_lim)\n",
    "    t1 = np.max(t[ind])\n",
    "    return t1-t0,t1,t0"
   ]
  },
  {
   "cell_type": "code",
   "execution_count": 71,
   "id": "80e7b56a",
   "metadata": {},
   "outputs": [
    {
     "name": "stdout",
     "output_type": "stream",
     "text": [
      "Rise time: 0.0315 s\n",
      "Fall time: 0.00860000000000001 s\n"
     ]
    },
    {
     "data": {
      "image/png": "[encoded data removed]",
      "text/plain": [
       "<Figure size 432x288 with 1 Axes>"
      ]
     },
     "metadata": {
      "needs_background": "light"
     },
     "output_type": "display_data"
    }
   ],
   "source": [
    "t,V = read_TDS200('switching.txt')\n",
    "t,V = moving_avg(t,V,kernelsize=10)\n",
    "plt.plot(t,V)\n",
    "\n",
    "t_rise,t0,t1 = get_rise_time(t,V)\n",
    "print('Rise time:',t_rise,'s')\n",
    "plt.axvline(t0)\n",
    "plt.axvline(t1)\n",
    "\n",
    "t_fall,t0,t1 = get_fall_time(t,V)\n",
    "print('Fall time:',t_fall,'s')\n",
    "plt.axvline(t0)\n",
    "plt.axvline(t1)\n",
    "\n",
    "plt.show()\n"
   ]
  },
  {
   "cell_type": "code",
   "execution_count": null,
   "id": "908aee27",
   "metadata": {},
   "outputs": [],
   "source": []
  }
 ],
 "metadata": {
  "kernelspec": {
   "display_name": "Python 3 (ipykernel)",
   "language": "python",
   "name": "python3"
  },
  "language_info": {
   "codemirror_mode": {
    "name": "ipython",
    "version": 3
   },
   "file_extension": ".py",
   "mimetype": "text/x-python",
   "name": "python",
   "nbconvert_exporter": "python",
   "pygments_lexer": "ipython3",
   "version": "3.9.7"
  }
 },
 "nbformat": 4,
 "nbformat_minor": 5
}
